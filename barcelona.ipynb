{
 "cells": [
  {
   "cell_type": "markdown",
   "metadata": {},
   "source": [
    "# Airbnb Data Set Analysis\n"
   ]
  },
  {
   "cell_type": "markdown",
   "metadata": {},
   "source": [
    "### Data understanding\n",
    "The data is taken from Airbnb for 1 city (Barcelona).\n",
    "\n",
    "-List : Contains the description of review and ratings.\n",
    "\n",
    "-Reviews: contains ID for reviewer and comments"
   ]
  },
  {
   "cell_type": "markdown",
   "metadata": {},
   "source": [
    "### Finding overall rating of service and popular review words"
   ]
  },
  {
   "cell_type": "markdown",
   "metadata": {},
   "source": [
    "#### Import & Overview of dataset"
   ]
  },
  {
   "cell_type": "code",
   "execution_count": 1,
   "metadata": {},
   "outputs": [],
   "source": [
    "#Standard libraries\n",
    "import pandas as pd \n",
    "#Load Dataset\n",
    "listing = pd.read_csv(\"listings 2.csv\") \n",
    "reviews = pd.read_csv(\"reviews 2.csv\") "
   ]
  },
  {
   "cell_type": "code",
   "execution_count": 2,
   "metadata": {},
   "outputs": [
    {
     "data": {
      "text/html": [
       "<div>\n",
       "<style scoped>\n",
       "    .dataframe tbody tr th:only-of-type {\n",
       "        vertical-align: middle;\n",
       "    }\n",
       "\n",
       "    .dataframe tbody tr th {\n",
       "        vertical-align: top;\n",
       "    }\n",
       "\n",
       "    .dataframe thead th {\n",
       "        text-align: right;\n",
       "    }\n",
       "</style>\n",
       "<table border=\"1\" class=\"dataframe\">\n",
       "  <thead>\n",
       "    <tr style=\"text-align: right;\">\n",
       "      <th></th>\n",
       "      <th>id</th>\n",
       "      <th>listing_url</th>\n",
       "      <th>scrape_id</th>\n",
       "      <th>last_scraped</th>\n",
       "      <th>source</th>\n",
       "      <th>name</th>\n",
       "      <th>description</th>\n",
       "      <th>neighborhood_overview</th>\n",
       "      <th>picture_url</th>\n",
       "      <th>host_id</th>\n",
       "      <th>...</th>\n",
       "      <th>review_scores_communication</th>\n",
       "      <th>review_scores_location</th>\n",
       "      <th>review_scores_value</th>\n",
       "      <th>license</th>\n",
       "      <th>instant_bookable</th>\n",
       "      <th>calculated_host_listings_count</th>\n",
       "      <th>calculated_host_listings_count_entire_homes</th>\n",
       "      <th>calculated_host_listings_count_private_rooms</th>\n",
       "      <th>calculated_host_listings_count_shared_rooms</th>\n",
       "      <th>reviews_per_month</th>\n",
       "    </tr>\n",
       "  </thead>\n",
       "  <tbody>\n",
       "    <tr>\n",
       "      <th>0</th>\n",
       "      <td>673276379194656210</td>\n",
       "      <td>https://www.airbnb.com/rooms/673276379194656210</td>\n",
       "      <td>20220910194401</td>\n",
       "      <td>2022-09-10</td>\n",
       "      <td>city scrape</td>\n",
       "      <td>Habitación muy acogedora.</td>\n",
       "      <td>Abrace la simplicidad en este lugar tranquilo ...</td>\n",
       "      <td>El barrio es tranquilo y bien hubicado.   Cerc...</td>\n",
       "      <td>https://a0.muscache.com/pictures/miso/Hosting-...</td>\n",
       "      <td>51421682</td>\n",
       "      <td>...</td>\n",
       "      <td>4.89</td>\n",
       "      <td>4.89</td>\n",
       "      <td>4.78</td>\n",
       "      <td>Exempt</td>\n",
       "      <td>t</td>\n",
       "      <td>1</td>\n",
       "      <td>0</td>\n",
       "      <td>1</td>\n",
       "      <td>0</td>\n",
       "      <td>9.00</td>\n",
       "    </tr>\n",
       "    <tr>\n",
       "      <th>1</th>\n",
       "      <td>44192271</td>\n",
       "      <td>https://www.airbnb.com/rooms/44192271</td>\n",
       "      <td>20220910194401</td>\n",
       "      <td>2022-09-10</td>\n",
       "      <td>city scrape</td>\n",
       "      <td>Cozy terrace apartment Apartamento con patio</td>\n",
       "      <td>A private terraced + 2 bedroom ground floor ap...</td>\n",
       "      <td>The neighbourhood is quiet with trees. Though ...</td>\n",
       "      <td>https://a0.muscache.com/pictures/2e579e6b-b717...</td>\n",
       "      <td>200754964</td>\n",
       "      <td>...</td>\n",
       "      <td>4.98</td>\n",
       "      <td>4.52</td>\n",
       "      <td>4.65</td>\n",
       "      <td>HUTB-013294</td>\n",
       "      <td>f</td>\n",
       "      <td>1</td>\n",
       "      <td>1</td>\n",
       "      <td>0</td>\n",
       "      <td>0</td>\n",
       "      <td>2.45</td>\n",
       "    </tr>\n",
       "    <tr>\n",
       "      <th>2</th>\n",
       "      <td>17039441</td>\n",
       "      <td>https://www.airbnb.com/rooms/17039441</td>\n",
       "      <td>20220910194401</td>\n",
       "      <td>2022-09-10</td>\n",
       "      <td>city scrape</td>\n",
       "      <td>Apart. full equipped. 2 min to Subway lines L1...</td>\n",
       "      <td>Precioso apartamento ideal para parejas. Lumin...</td>\n",
       "      <td>La zona dispone de servicios básicos y una exc...</td>\n",
       "      <td>https://a0.muscache.com/pictures/02af8b09-c8ca...</td>\n",
       "      <td>114340651</td>\n",
       "      <td>...</td>\n",
       "      <td>4.99</td>\n",
       "      <td>4.70</td>\n",
       "      <td>4.89</td>\n",
       "      <td>NaN</td>\n",
       "      <td>f</td>\n",
       "      <td>1</td>\n",
       "      <td>1</td>\n",
       "      <td>0</td>\n",
       "      <td>0</td>\n",
       "      <td>2.15</td>\n",
       "    </tr>\n",
       "  </tbody>\n",
       "</table>\n",
       "<p>3 rows × 75 columns</p>\n",
       "</div>"
      ],
      "text/plain": [
       "                   id                                      listing_url  \\\n",
       "0  673276379194656210  https://www.airbnb.com/rooms/673276379194656210   \n",
       "1            44192271            https://www.airbnb.com/rooms/44192271   \n",
       "2            17039441            https://www.airbnb.com/rooms/17039441   \n",
       "\n",
       "        scrape_id last_scraped       source  \\\n",
       "0  20220910194401   2022-09-10  city scrape   \n",
       "1  20220910194401   2022-09-10  city scrape   \n",
       "2  20220910194401   2022-09-10  city scrape   \n",
       "\n",
       "                                                name  \\\n",
       "0                          Habitación muy acogedora.   \n",
       "1       Cozy terrace apartment Apartamento con patio   \n",
       "2  Apart. full equipped. 2 min to Subway lines L1...   \n",
       "\n",
       "                                         description  \\\n",
       "0  Abrace la simplicidad en este lugar tranquilo ...   \n",
       "1  A private terraced + 2 bedroom ground floor ap...   \n",
       "2  Precioso apartamento ideal para parejas. Lumin...   \n",
       "\n",
       "                               neighborhood_overview  \\\n",
       "0  El barrio es tranquilo y bien hubicado.   Cerc...   \n",
       "1  The neighbourhood is quiet with trees. Though ...   \n",
       "2  La zona dispone de servicios básicos y una exc...   \n",
       "\n",
       "                                         picture_url    host_id  ...  \\\n",
       "0  https://a0.muscache.com/pictures/miso/Hosting-...   51421682  ...   \n",
       "1  https://a0.muscache.com/pictures/2e579e6b-b717...  200754964  ...   \n",
       "2  https://a0.muscache.com/pictures/02af8b09-c8ca...  114340651  ...   \n",
       "\n",
       "  review_scores_communication review_scores_location review_scores_value  \\\n",
       "0                        4.89                   4.89                4.78   \n",
       "1                        4.98                   4.52                4.65   \n",
       "2                        4.99                   4.70                4.89   \n",
       "\n",
       "       license instant_bookable calculated_host_listings_count  \\\n",
       "0       Exempt                t                              1   \n",
       "1  HUTB-013294                f                              1   \n",
       "2          NaN                f                              1   \n",
       "\n",
       "  calculated_host_listings_count_entire_homes  \\\n",
       "0                                           0   \n",
       "1                                           1   \n",
       "2                                           1   \n",
       "\n",
       "  calculated_host_listings_count_private_rooms  \\\n",
       "0                                            1   \n",
       "1                                            0   \n",
       "2                                            0   \n",
       "\n",
       "  calculated_host_listings_count_shared_rooms reviews_per_month  \n",
       "0                                           0              9.00  \n",
       "1                                           0              2.45  \n",
       "2                                           0              2.15  \n",
       "\n",
       "[3 rows x 75 columns]"
      ]
     },
     "metadata": {},
     "output_type": "display_data"
    },
    {
     "data": {
      "text/html": [
       "<div>\n",
       "<style scoped>\n",
       "    .dataframe tbody tr th:only-of-type {\n",
       "        vertical-align: middle;\n",
       "    }\n",
       "\n",
       "    .dataframe tbody tr th {\n",
       "        vertical-align: top;\n",
       "    }\n",
       "\n",
       "    .dataframe thead th {\n",
       "        text-align: right;\n",
       "    }\n",
       "</style>\n",
       "<table border=\"1\" class=\"dataframe\">\n",
       "  <thead>\n",
       "    <tr style=\"text-align: right;\">\n",
       "      <th></th>\n",
       "      <th>listing_id</th>\n",
       "      <th>id</th>\n",
       "      <th>date</th>\n",
       "      <th>reviewer_id</th>\n",
       "      <th>reviewer_name</th>\n",
       "      <th>comments</th>\n",
       "    </tr>\n",
       "  </thead>\n",
       "  <tbody>\n",
       "    <tr>\n",
       "      <th>0</th>\n",
       "      <td>673276379194656210</td>\n",
       "      <td>691141672749367564</td>\n",
       "      <td>2022-08-11</td>\n",
       "      <td>271989411</td>\n",
       "      <td>Marlene</td>\n",
       "      <td>María Das Merces es muy linda agradable te ayu...</td>\n",
       "    </tr>\n",
       "    <tr>\n",
       "      <th>1</th>\n",
       "      <td>196021</td>\n",
       "      <td>578491</td>\n",
       "      <td>2011-09-28</td>\n",
       "      <td>1111424</td>\n",
       "      <td>Zara</td>\n",
       "      <td>Excellent (Website hidden by Airbnb) location ...</td>\n",
       "    </tr>\n",
       "    <tr>\n",
       "      <th>2</th>\n",
       "      <td>196021</td>\n",
       "      <td>622897</td>\n",
       "      <td>2011-10-12</td>\n",
       "      <td>1094982</td>\n",
       "      <td>Anne</td>\n",
       "      <td>We had a wonderful stay. The flat is central t...</td>\n",
       "    </tr>\n",
       "  </tbody>\n",
       "</table>\n",
       "</div>"
      ],
      "text/plain": [
       "           listing_id                  id        date  reviewer_id  \\\n",
       "0  673276379194656210  691141672749367564  2022-08-11    271989411   \n",
       "1              196021              578491  2011-09-28      1111424   \n",
       "2              196021              622897  2011-10-12      1094982   \n",
       "\n",
       "  reviewer_name                                           comments  \n",
       "0       Marlene  María Das Merces es muy linda agradable te ayu...  \n",
       "1          Zara  Excellent (Website hidden by Airbnb) location ...  \n",
       "2          Anne  We had a wonderful stay. The flat is central t...  "
      ]
     },
     "metadata": {},
     "output_type": "display_data"
    }
   ],
   "source": [
    "#Look at the first rows from Listings and Review dataset\n",
    "display(listing.head(3),reviews.head(3))"
   ]
  },
  {
   "cell_type": "code",
   "execution_count": 4,
   "metadata": {},
   "outputs": [],
   "source": [
    "#Label each area (for adding other cities later)\n",
    "listing['area'] = 'barcelona'\n",
    "reviews['area'] = 'barcelona'"
   ]
  },
  {
   "cell_type": "code",
   "execution_count": 5,
   "metadata": {},
   "outputs": [
    {
     "data": {
      "text/plain": [
       "Index(['id', 'listing_url', 'scrape_id', 'last_scraped', 'source', 'name',\n",
       "       'description', 'neighborhood_overview', 'picture_url', 'host_id',\n",
       "       'host_url', 'host_name', 'host_since', 'host_location', 'host_about',\n",
       "       'host_response_time', 'host_response_rate', 'host_acceptance_rate',\n",
       "       'host_is_superhost', 'host_thumbnail_url', 'host_picture_url',\n",
       "       'host_neighbourhood', 'host_listings_count',\n",
       "       'host_total_listings_count', 'host_verifications',\n",
       "       'host_has_profile_pic', 'host_identity_verified', 'neighbourhood',\n",
       "       'neighbourhood_cleansed', 'neighbourhood_group_cleansed', 'latitude',\n",
       "       'longitude', 'property_type', 'room_type', 'accommodates', 'bathrooms',\n",
       "       'bathrooms_text', 'bedrooms', 'beds', 'amenities', 'price',\n",
       "       'minimum_nights', 'maximum_nights', 'minimum_minimum_nights',\n",
       "       'maximum_minimum_nights', 'minimum_maximum_nights',\n",
       "       'maximum_maximum_nights', 'minimum_nights_avg_ntm',\n",
       "       'maximum_nights_avg_ntm', 'calendar_updated', 'has_availability',\n",
       "       'availability_30', 'availability_60', 'availability_90',\n",
       "       'availability_365', 'calendar_last_scraped', 'number_of_reviews',\n",
       "       'number_of_reviews_ltm', 'number_of_reviews_l30d', 'first_review',\n",
       "       'last_review', 'review_scores_rating', 'review_scores_accuracy',\n",
       "       'review_scores_cleanliness', 'review_scores_checkin',\n",
       "       'review_scores_communication', 'review_scores_location',\n",
       "       'review_scores_value', 'license', 'instant_bookable',\n",
       "       'calculated_host_listings_count',\n",
       "       'calculated_host_listings_count_entire_homes',\n",
       "       'calculated_host_listings_count_private_rooms',\n",
       "       'calculated_host_listings_count_shared_rooms', 'reviews_per_month',\n",
       "       'area'],\n",
       "      dtype='object')"
      ]
     },
     "execution_count": 5,
     "metadata": {},
     "output_type": "execute_result"
    }
   ],
   "source": [
    "listing.columns"
   ]
  },
  {
   "cell_type": "code",
   "execution_count": 6,
   "metadata": {},
   "outputs": [
    {
     "data": {
      "text/html": [
       "<div>\n",
       "<style scoped>\n",
       "    .dataframe tbody tr th:only-of-type {\n",
       "        vertical-align: middle;\n",
       "    }\n",
       "\n",
       "    .dataframe tbody tr th {\n",
       "        vertical-align: top;\n",
       "    }\n",
       "\n",
       "    .dataframe thead th {\n",
       "        text-align: right;\n",
       "    }\n",
       "</style>\n",
       "<table border=\"1\" class=\"dataframe\">\n",
       "  <thead>\n",
       "    <tr style=\"text-align: right;\">\n",
       "      <th>area</th>\n",
       "      <th>barcelona</th>\n",
       "    </tr>\n",
       "  </thead>\n",
       "  <tbody>\n",
       "    <tr>\n",
       "      <th>count</th>\n",
       "      <td>13306.000000</td>\n",
       "    </tr>\n",
       "    <tr>\n",
       "      <th>mean</th>\n",
       "      <td>4.526059</td>\n",
       "    </tr>\n",
       "    <tr>\n",
       "      <th>std</th>\n",
       "      <td>0.644020</td>\n",
       "    </tr>\n",
       "    <tr>\n",
       "      <th>min</th>\n",
       "      <td>0.000000</td>\n",
       "    </tr>\n",
       "    <tr>\n",
       "      <th>25%</th>\n",
       "      <td>4.400000</td>\n",
       "    </tr>\n",
       "    <tr>\n",
       "      <th>50%</th>\n",
       "      <td>4.670000</td>\n",
       "    </tr>\n",
       "    <tr>\n",
       "      <th>75%</th>\n",
       "      <td>4.890000</td>\n",
       "    </tr>\n",
       "    <tr>\n",
       "      <th>max</th>\n",
       "      <td>5.000000</td>\n",
       "    </tr>\n",
       "  </tbody>\n",
       "</table>\n",
       "</div>"
      ],
      "text/plain": [
       "area      barcelona\n",
       "count  13306.000000\n",
       "mean       4.526059\n",
       "std        0.644020\n",
       "min        0.000000\n",
       "25%        4.400000\n",
       "50%        4.670000\n",
       "75%        4.890000\n",
       "max        5.000000"
      ]
     },
     "execution_count": 6,
     "metadata": {},
     "output_type": "execute_result"
    }
   ],
   "source": [
    "listing.groupby('area')[\"review_scores_rating\"].describe().transpose()"
   ]
  },
  {
   "cell_type": "code",
   "execution_count": 7,
   "metadata": {},
   "outputs": [
    {
     "data": {
      "image/png": "[encoded data removed]",
      "text/plain": [
       "<Figure size 432x288 with 6 Axes>"
      ]
     },
     "metadata": {
      "needs_background": "light"
     },
     "output_type": "display_data"
    }
   ],
   "source": [
    "import matplotlib.pyplot as plt\n",
    "fig, ax = plt.subplots(2, 3)\n",
    "fig.tight_layout()\n",
    "\n",
    "ax[0, 0].hist(listing[\"review_scores_value\"]) #row=0, col=0\n",
    "ax[0, 0].set_title('Value')\n",
    "ax[1, 0].hist(listing[\"review_scores_checkin\"]) #row=1, col=0\n",
    "ax[1, 0].set_title('Check In')\n",
    "ax[0, 1].hist(listing[\"review_scores_cleanliness\"]) #row=0, col=1\n",
    "ax[0, 1].set_title('Cleanliness')\n",
    "ax[1, 1].hist(listing[\"review_scores_communication\"]) #row=1, col=1\n",
    "ax[1, 1].set_title('Communication')\n",
    "ax[1, 2].hist(listing[\"review_scores_location\"]) #row=1, col=2\n",
    "ax[1 ,2].set_title('Location')\n",
    "plt.show()"
   ]
  },
  {
   "cell_type": "markdown",
   "metadata": {},
   "source": [
    "#### Filling Missing Reviews as Blank\n",
    "Using Missing Value Treatment (MVT)"
   ]
  },
  {
   "cell_type": "code",
   "execution_count": 8,
   "metadata": {},
   "outputs": [
    {
     "data": {
      "text/plain": [
       "46"
      ]
     },
     "execution_count": 8,
     "metadata": {},
     "output_type": "execute_result"
    }
   ],
   "source": [
    "#count missing values\n",
    "reviews['comments'].isnull().sum()"
   ]
  },
  {
   "cell_type": "code",
   "execution_count": 9,
   "metadata": {},
   "outputs": [],
   "source": [
    "import itertools\n",
    "import collections\n",
    "\n",
    "def convert(lst): \n",
    "    return ([i for item in lst for i in item.lower().split()]) \n",
    "\n",
    "all_words_review = convert(reviews['comments'].fillna(\"\")) #Fill in missing reviews with blank"
   ]
  },
  {
   "cell_type": "markdown",
   "metadata": {},
   "source": [
    "#### Word Frequency"
   ]
  },
  {
   "cell_type": "code",
   "execution_count": 61,
   "metadata": {},
   "outputs": [
    {
     "data": {
      "text/html": [
       "<div>\n",
       "<style scoped>\n",
       "    .dataframe tbody tr th:only-of-type {\n",
       "        vertical-align: middle;\n",
       "    }\n",
       "\n",
       "    .dataframe tbody tr th {\n",
       "        vertical-align: top;\n",
       "    }\n",
       "\n",
       "    .dataframe thead th {\n",
       "        text-align: right;\n",
       "    }\n",
       "</style>\n",
       "<table border=\"1\" class=\"dataframe\">\n",
       "  <thead>\n",
       "    <tr style=\"text-align: right;\">\n",
       "      <th></th>\n",
       "      <th>words</th>\n",
       "      <th>count</th>\n",
       "    </tr>\n",
       "  </thead>\n",
       "  <tbody>\n",
       "    <tr>\n",
       "      <th>0</th>\n",
       "      <td>the</td>\n",
       "      <td>1188800</td>\n",
       "    </tr>\n",
       "    <tr>\n",
       "      <th>1</th>\n",
       "      <td>and</td>\n",
       "      <td>1030068</td>\n",
       "    </tr>\n",
       "    <tr>\n",
       "      <th>2</th>\n",
       "      <td>a</td>\n",
       "      <td>740963</td>\n",
       "    </tr>\n",
       "    <tr>\n",
       "      <th>3</th>\n",
       "      <td>to</td>\n",
       "      <td>633948</td>\n",
       "    </tr>\n",
       "    <tr>\n",
       "      <th>4</th>\n",
       "      <td>was</td>\n",
       "      <td>491563</td>\n",
       "    </tr>\n",
       "  </tbody>\n",
       "</table>\n",
       "</div>"
      ],
      "text/plain": [
       "  words    count\n",
       "0   the  1188800\n",
       "1   and  1030068\n",
       "2     a   740963\n",
       "3    to   633948\n",
       "4   was   491563"
      ]
     },
     "execution_count": 61,
     "metadata": {},
     "output_type": "execute_result"
    }
   ],
   "source": [
    "count_word = collections.Counter(all_words_review) #Count word frequency\n",
    "\n",
    "clean_word_count = pd.DataFrame(count_word.most_common(5),\n",
    "                             columns=['words', 'count'])\n",
    "\n",
    "clean_word_count.head()"
   ]
  },
  {
   "cell_type": "markdown",
   "metadata": {},
   "source": [
    "#### Removing Stopwords"
   ]
  },
  {
   "cell_type": "code",
   "execution_count": 62,
   "metadata": {},
   "outputs": [],
   "source": [
    "import nltk\n",
    "from nltk.corpus import stopwords"
   ]
  },
  {
   "cell_type": "code",
   "execution_count": 63,
   "metadata": {},
   "outputs": [
    {
     "data": {
      "text/plain": [
       "['estuvieron',\n",
       " \"needn't\",\n",
       " 'sois',\n",
       " 'todo',\n",
       " 'erais',\n",
       " 'tendrá',\n",
       " 'having',\n",
       " 'habremos',\n",
       " 'hubieseis',\n",
       " 'fuese']"
      ]
     },
     "execution_count": 63,
     "metadata": {},
     "output_type": "execute_result"
    }
   ],
   "source": [
    "stop_words = set(stopwords.words(['spanish','english']))\n",
    "\n",
    "# View a few words from the set\n",
    "list(stop_words)[0:10]"
   ]
  },
  {
   "cell_type": "code",
   "execution_count": 64,
   "metadata": {},
   "outputs": [],
   "source": [
    "words_review_cleaned = [word for word in all_words_review if word not in stop_words] \n",
    "words_review_count = collections.Counter(words_review_cleaned)\n",
    "\n",
    "word_review_count_df = pd.DataFrame(words_review_count.most_common(15),\n",
    "                             columns=['words', 'count'])"
   ]
  },
  {
   "cell_type": "code",
   "execution_count": 65,
   "metadata": {},
   "outputs": [
    {
     "data": {
      "image/png": "[encoded data removed]",
      "text/plain": [
       "<Figure size 576x576 with 1 Axes>"
      ]
     },
     "metadata": {},
     "output_type": "display_data"
    }
   ],
   "source": [
    "fig, ax = plt.subplots(figsize=(8, 8))\n",
    "\n",
    "# Plot horizontal bar graph\n",
    "word_review_count_df.sort_values(by='count').plot.barh(x='words',\n",
    "                      y='count',\n",
    "                      ax=ax,\n",
    "                      color=\"blue\")\n",
    "\n",
    "ax.set_title(\"Most Frequent Words (All Reviews)\")\n",
    "\n",
    "plt.show()"
   ]
  },
  {
   "cell_type": "code",
   "execution_count": null,
   "metadata": {},
   "outputs": [],
   "source": []
  }
 ],
 "metadata": {
  "kernelspec": {
   "display_name": "Python 3",
   "language": "python",
   "name": "python3"
  },
  "language_info": {
   "codemirror_mode": {
    "name": "ipython",
    "version": 3
   },
   "file_extension": ".py",
   "mimetype": "text/x-python",
   "name": "python",
   "nbconvert_exporter": "python",
   "pygments_lexer": "ipython3",
   "version": "3.9.5"
  }
 },
 "nbformat": 4,
 "nbformat_minor": 4
}
